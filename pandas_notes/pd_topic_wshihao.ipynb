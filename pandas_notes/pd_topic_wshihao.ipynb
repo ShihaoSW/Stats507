{
 "cells": [
  {
   "cell_type": "markdown",
   "id": "68122cde",
   "metadata": {},
   "source": [
    "# Question 2 in Problem Set 6 \n",
    "\n",
    "*Stats 507, Fall 2021*\n",
    "\n",
    "Shihao Wu, PhD student in statistics\n",
    "\n",
    "wshihao@umich.edu"
   ]
  },
  {
   "cell_type": "markdown",
   "id": "26ecebe1",
   "metadata": {},
   "source": [
    "## Imports\n",
    "\n",
    "The remaining questions will use the following imports."
   ]
  },
  {
   "cell_type": "code",
   "execution_count": 3,
   "id": "9a1f2c2c",
   "metadata": {},
   "outputs": [],
   "source": [
    "import pandas as pd\n",
    "import numpy as np"
   ]
  },
  {
   "cell_type": "markdown",
   "id": "91af6fb8",
   "metadata": {},
   "source": [
    "## Question 0 - Topics in Pandas \n",
    "\n",
    "For this question, please pick a topic - such as a function, class, method, recipe or idiom related to the pandas python library and create a short tutorial or overview of that topic. The only rules are below.\n",
    "\n",
    "1. Pick a topic *not* covered in the class slides.\n",
    "2. Do not knowingly pick the same topic as someone else.\n",
    "3. Use bullet points and titles (level 2 headers) to create the equivalent of **3-5** “slides” of key points. They shouldn’t actually be slides, but please structure your key points in a manner similar to the class slides (viewed as a notebook).\n",
    "4. Include executable example code in code cells to illustrate your topic.\n",
    "\n",
    "You do not need to clear your topic with me. If you want feedback on your topic choice, please discuss with me or a GSI in office hours."
   ]
  },
  {
   "cell_type": "markdown",
   "id": "f3177a56",
   "metadata": {},
   "source": [
    "## Topic: Missing Data in Pandas\n",
    "\n",
    "Shihao Wu, PhD student in statistics\n",
    "\n",
    "Reference: [https://pandas.pydata.org/pandas-docs/stable/user_guide/missing_data.html](https://pandas.pydata.org/pandas-docs/stable/user_guide/missing_data.html)\n",
    "\n",
    "There are 4 \"slides\" for this topic.\n",
    "\n",
    "\n",
    "## Missing data\n",
    "Missing data arises in various circumstances in statistical analysis. Consider the following example:"
   ]
  },
  {
   "cell_type": "code",
   "execution_count": 4,
   "id": "9cb3ed14",
   "metadata": {},
   "outputs": [
    {
     "data": {
      "text/html": [
       "<div>\n",
       "<style scoped>\n",
       "    .dataframe tbody tr th:only-of-type {\n",
       "        vertical-align: middle;\n",
       "    }\n",
       "\n",
       "    .dataframe tbody tr th {\n",
       "        vertical-align: top;\n",
       "    }\n",
       "\n",
       "    .dataframe thead th {\n",
       "        text-align: right;\n",
       "    }\n",
       "</style>\n",
       "<table border=\"1\" class=\"dataframe\">\n",
       "  <thead>\n",
       "    <tr style=\"text-align: right;\">\n",
       "      <th></th>\n",
       "      <th>1</th>\n",
       "      <th>2</th>\n",
       "      <th>3</th>\n",
       "      <th>4</th>\n",
       "      <th>5</th>\n",
       "    </tr>\n",
       "  </thead>\n",
       "  <tbody>\n",
       "    <tr>\n",
       "      <th>a</th>\n",
       "      <td>-1.163547</td>\n",
       "      <td>0.671639</td>\n",
       "      <td>-0.670563</td>\n",
       "      <td>bar</td>\n",
       "      <td>False</td>\n",
       "    </tr>\n",
       "    <tr>\n",
       "      <th>b</th>\n",
       "      <td>NaN</td>\n",
       "      <td>NaN</td>\n",
       "      <td>NaN</td>\n",
       "      <td>NaN</td>\n",
       "      <td>NaN</td>\n",
       "    </tr>\n",
       "    <tr>\n",
       "      <th>c</th>\n",
       "      <td>0.585098</td>\n",
       "      <td>-1.573175</td>\n",
       "      <td>-0.819964</td>\n",
       "      <td>bar</td>\n",
       "      <td>True</td>\n",
       "    </tr>\n",
       "    <tr>\n",
       "      <th>d</th>\n",
       "      <td>NaN</td>\n",
       "      <td>NaN</td>\n",
       "      <td>NaN</td>\n",
       "      <td>NaN</td>\n",
       "      <td>NaN</td>\n",
       "    </tr>\n",
       "    <tr>\n",
       "      <th>e</th>\n",
       "      <td>0.850473</td>\n",
       "      <td>0.427974</td>\n",
       "      <td>-1.146248</td>\n",
       "      <td>bar</td>\n",
       "      <td>True</td>\n",
       "    </tr>\n",
       "    <tr>\n",
       "      <th>f</th>\n",
       "      <td>0.401774</td>\n",
       "      <td>-1.416938</td>\n",
       "      <td>0.213961</td>\n",
       "      <td>bar</td>\n",
       "      <td>True</td>\n",
       "    </tr>\n",
       "    <tr>\n",
       "      <th>g</th>\n",
       "      <td>NaN</td>\n",
       "      <td>NaN</td>\n",
       "      <td>NaN</td>\n",
       "      <td>NaN</td>\n",
       "      <td>NaN</td>\n",
       "    </tr>\n",
       "    <tr>\n",
       "      <th>h</th>\n",
       "      <td>0.990349</td>\n",
       "      <td>-0.945876</td>\n",
       "      <td>-0.458248</td>\n",
       "      <td>bar</td>\n",
       "      <td>True</td>\n",
       "    </tr>\n",
       "  </tbody>\n",
       "</table>\n",
       "</div>"
      ],
      "text/plain": [
       "          1         2         3    4      5\n",
       "a -1.163547  0.671639 -0.670563  bar  False\n",
       "b       NaN       NaN       NaN  NaN    NaN\n",
       "c  0.585098 -1.573175 -0.819964  bar   True\n",
       "d       NaN       NaN       NaN  NaN    NaN\n",
       "e  0.850473  0.427974 -1.146248  bar   True\n",
       "f  0.401774 -1.416938  0.213961  bar   True\n",
       "g       NaN       NaN       NaN  NaN    NaN\n",
       "h  0.990349 -0.945876 -0.458248  bar   True"
      ]
     },
     "execution_count": 4,
     "metadata": {},
     "output_type": "execute_result"
    }
   ],
   "source": [
    "# generate a data frame with float, string and bool values\n",
    "df = pd.DataFrame(\n",
    "    np.random.randn(5, 3),\n",
    "    index=[\"a\", \"c\", \"e\", \"f\", \"h\"],\n",
    "    columns=[\"1\", \"2\", \"3\"],\n",
    ")\n",
    "df['4'] = \"bar\"\n",
    "df['5'] = df[\"1\"] > 0\n",
    "\n",
    "# reindex so that there will be missing values in the data frame\n",
    "df2 = df.reindex([\"a\", \"b\", \"c\", \"d\", \"e\", \"f\", \"g\", \"h\"])\n",
    "\n",
    "df2"
   ]
  },
  {
   "cell_type": "markdown",
   "id": "a89ee46b",
   "metadata": {},
   "source": [
    "The missing values come from unspecified rows of data."
   ]
  },
  {
   "cell_type": "markdown",
   "id": "486453bc",
   "metadata": {},
   "source": [
    "## Detecting missing data\n",
    "\n",
    "To make detecting missing values easier (and across different array dtypes), pandas provides the <code>isna()</code> and <code>notna()</code> functions, which are also methods on Series and DataFrame objects:"
   ]
  },
  {
   "cell_type": "code",
   "execution_count": 5,
   "id": "df25937b",
   "metadata": {},
   "outputs": [
    {
     "data": {
      "text/plain": [
       "a   -1.163547\n",
       "b         NaN\n",
       "c    0.585098\n",
       "d         NaN\n",
       "e    0.850473\n",
       "f    0.401774\n",
       "g         NaN\n",
       "h    0.990349\n",
       "Name: 1, dtype: float64"
      ]
     },
     "execution_count": 5,
     "metadata": {},
     "output_type": "execute_result"
    }
   ],
   "source": [
    "df2[\"1\"]"
   ]
  },
  {
   "cell_type": "code",
   "execution_count": 6,
   "id": "8308a601",
   "metadata": {},
   "outputs": [
    {
     "data": {
      "text/plain": [
       "a    False\n",
       "b     True\n",
       "c    False\n",
       "d     True\n",
       "e    False\n",
       "f    False\n",
       "g     True\n",
       "h    False\n",
       "Name: 1, dtype: bool"
      ]
     },
     "execution_count": 6,
     "metadata": {},
     "output_type": "execute_result"
    }
   ],
   "source": [
    "pd.isna(df2[\"1\"])"
   ]
  },
  {
   "cell_type": "code",
   "execution_count": 7,
   "id": "5e5db8a8",
   "metadata": {},
   "outputs": [
    {
     "data": {
      "text/plain": [
       "a     True\n",
       "b    False\n",
       "c     True\n",
       "d    False\n",
       "e     True\n",
       "f     True\n",
       "g    False\n",
       "h     True\n",
       "Name: 4, dtype: bool"
      ]
     },
     "execution_count": 7,
     "metadata": {},
     "output_type": "execute_result"
    }
   ],
   "source": [
    "df2[\"4\"].notna()"
   ]
  },
  {
   "cell_type": "code",
   "execution_count": 8,
   "id": "64141bff",
   "metadata": {},
   "outputs": [
    {
     "data": {
      "text/html": [
       "<div>\n",
       "<style scoped>\n",
       "    .dataframe tbody tr th:only-of-type {\n",
       "        vertical-align: middle;\n",
       "    }\n",
       "\n",
       "    .dataframe tbody tr th {\n",
       "        vertical-align: top;\n",
       "    }\n",
       "\n",
       "    .dataframe thead th {\n",
       "        text-align: right;\n",
       "    }\n",
       "</style>\n",
       "<table border=\"1\" class=\"dataframe\">\n",
       "  <thead>\n",
       "    <tr style=\"text-align: right;\">\n",
       "      <th></th>\n",
       "      <th>1</th>\n",
       "      <th>2</th>\n",
       "      <th>3</th>\n",
       "      <th>4</th>\n",
       "      <th>5</th>\n",
       "    </tr>\n",
       "  </thead>\n",
       "  <tbody>\n",
       "    <tr>\n",
       "      <th>a</th>\n",
       "      <td>False</td>\n",
       "      <td>False</td>\n",
       "      <td>False</td>\n",
       "      <td>False</td>\n",
       "      <td>False</td>\n",
       "    </tr>\n",
       "    <tr>\n",
       "      <th>b</th>\n",
       "      <td>True</td>\n",
       "      <td>True</td>\n",
       "      <td>True</td>\n",
       "      <td>True</td>\n",
       "      <td>True</td>\n",
       "    </tr>\n",
       "    <tr>\n",
       "      <th>c</th>\n",
       "      <td>False</td>\n",
       "      <td>False</td>\n",
       "      <td>False</td>\n",
       "      <td>False</td>\n",
       "      <td>False</td>\n",
       "    </tr>\n",
       "    <tr>\n",
       "      <th>d</th>\n",
       "      <td>True</td>\n",
       "      <td>True</td>\n",
       "      <td>True</td>\n",
       "      <td>True</td>\n",
       "      <td>True</td>\n",
       "    </tr>\n",
       "    <tr>\n",
       "      <th>e</th>\n",
       "      <td>False</td>\n",
       "      <td>False</td>\n",
       "      <td>False</td>\n",
       "      <td>False</td>\n",
       "      <td>False</td>\n",
       "    </tr>\n",
       "    <tr>\n",
       "      <th>f</th>\n",
       "      <td>False</td>\n",
       "      <td>False</td>\n",
       "      <td>False</td>\n",
       "      <td>False</td>\n",
       "      <td>False</td>\n",
       "    </tr>\n",
       "    <tr>\n",
       "      <th>g</th>\n",
       "      <td>True</td>\n",
       "      <td>True</td>\n",
       "      <td>True</td>\n",
       "      <td>True</td>\n",
       "      <td>True</td>\n",
       "    </tr>\n",
       "    <tr>\n",
       "      <th>h</th>\n",
       "      <td>False</td>\n",
       "      <td>False</td>\n",
       "      <td>False</td>\n",
       "      <td>False</td>\n",
       "      <td>False</td>\n",
       "    </tr>\n",
       "  </tbody>\n",
       "</table>\n",
       "</div>"
      ],
      "text/plain": [
       "       1      2      3      4      5\n",
       "a  False  False  False  False  False\n",
       "b   True   True   True   True   True\n",
       "c  False  False  False  False  False\n",
       "d   True   True   True   True   True\n",
       "e  False  False  False  False  False\n",
       "f  False  False  False  False  False\n",
       "g   True   True   True   True   True\n",
       "h  False  False  False  False  False"
      ]
     },
     "execution_count": 8,
     "metadata": {},
     "output_type": "execute_result"
    }
   ],
   "source": [
    "df2.isna()"
   ]
  },
  {
   "cell_type": "markdown",
   "id": "4ebf902c",
   "metadata": {},
   "source": [
    "## Inserting missing data\n",
    "\n",
    "You can insert missing values by simply assigning to containers. The actual missing value used will be chosen based on the dtype.\n",
    "\n",
    "For example, numeric containers will always use <code>NaN</code> regardless of the missing value type chosen:"
   ]
  },
  {
   "cell_type": "code",
   "execution_count": 9,
   "id": "304b16ec",
   "metadata": {},
   "outputs": [
    {
     "data": {
      "text/plain": [
       "0    NaN\n",
       "1    2.0\n",
       "2    3.0\n",
       "dtype: float64"
      ]
     },
     "execution_count": 9,
     "metadata": {},
     "output_type": "execute_result"
    }
   ],
   "source": [
    "s = pd.Series([1, 2, 3])\n",
    "s.loc[0] = None\n",
    "s"
   ]
  },
  {
   "cell_type": "markdown",
   "id": "5b1bba2c",
   "metadata": {},
   "source": [
    "Because <code>NaN</code> is a float, a column of integers with even one missing values is cast to floating-point dtype. pandas provides a nullable integer array, which can be used by explicitly requesting the dtype:"
   ]
  },
  {
   "cell_type": "code",
   "execution_count": 10,
   "id": "5678101e",
   "metadata": {},
   "outputs": [
    {
     "data": {
      "text/plain": [
       "0       1\n",
       "1       2\n",
       "2    <NA>\n",
       "3       4\n",
       "dtype: Int64"
      ]
     },
     "execution_count": 10,
     "metadata": {},
     "output_type": "execute_result"
    }
   ],
   "source": [
    "pd.Series([1, 2, np.nan, 4], dtype=pd.Int64Dtype())"
   ]
  },
  {
   "cell_type": "markdown",
   "id": "f30372f2",
   "metadata": {},
   "source": [
    "Likewise, datetime containers will always use <code>NaT</code>.\n",
    "\n",
    "For object containers, pandas will use the value given:"
   ]
  },
  {
   "cell_type": "code",
   "execution_count": 11,
   "id": "6a493f58",
   "metadata": {},
   "outputs": [
    {
     "data": {
      "text/plain": [
       "0    None\n",
       "1     NaN\n",
       "2       c\n",
       "dtype: object"
      ]
     },
     "execution_count": 11,
     "metadata": {},
     "output_type": "execute_result"
    }
   ],
   "source": [
    "s = pd.Series([\"a\", \"b\", \"c\"])\n",
    "s.loc[0] = None\n",
    "s.loc[1] = np.nan\n",
    "s"
   ]
  },
  {
   "cell_type": "markdown",
   "id": "df9193cc",
   "metadata": {},
   "source": [
    "## Calculations with missing data \n",
    "\n",
    "Missing values propagate naturally through arithmetic operations between pandas objects."
   ]
  },
  {
   "cell_type": "code",
   "execution_count": 12,
   "id": "ea4f930d",
   "metadata": {},
   "outputs": [
    {
     "data": {
      "text/html": [
       "<div>\n",
       "<style scoped>\n",
       "    .dataframe tbody tr th:only-of-type {\n",
       "        vertical-align: middle;\n",
       "    }\n",
       "\n",
       "    .dataframe tbody tr th {\n",
       "        vertical-align: top;\n",
       "    }\n",
       "\n",
       "    .dataframe thead th {\n",
       "        text-align: right;\n",
       "    }\n",
       "</style>\n",
       "<table border=\"1\" class=\"dataframe\">\n",
       "  <thead>\n",
       "    <tr style=\"text-align: right;\">\n",
       "      <th></th>\n",
       "      <th>1</th>\n",
       "      <th>2</th>\n",
       "      <th>3</th>\n",
       "    </tr>\n",
       "  </thead>\n",
       "  <tbody>\n",
       "    <tr>\n",
       "      <th>a</th>\n",
       "      <td>NaN</td>\n",
       "      <td>1.343277</td>\n",
       "      <td>NaN</td>\n",
       "    </tr>\n",
       "    <tr>\n",
       "      <th>b</th>\n",
       "      <td>NaN</td>\n",
       "      <td>NaN</td>\n",
       "      <td>NaN</td>\n",
       "    </tr>\n",
       "    <tr>\n",
       "      <th>c</th>\n",
       "      <td>NaN</td>\n",
       "      <td>-3.146350</td>\n",
       "      <td>NaN</td>\n",
       "    </tr>\n",
       "    <tr>\n",
       "      <th>d</th>\n",
       "      <td>NaN</td>\n",
       "      <td>NaN</td>\n",
       "      <td>NaN</td>\n",
       "    </tr>\n",
       "    <tr>\n",
       "      <th>e</th>\n",
       "      <td>NaN</td>\n",
       "      <td>0.855947</td>\n",
       "      <td>NaN</td>\n",
       "    </tr>\n",
       "    <tr>\n",
       "      <th>f</th>\n",
       "      <td>NaN</td>\n",
       "      <td>-2.833876</td>\n",
       "      <td>NaN</td>\n",
       "    </tr>\n",
       "    <tr>\n",
       "      <th>g</th>\n",
       "      <td>NaN</td>\n",
       "      <td>NaN</td>\n",
       "      <td>NaN</td>\n",
       "    </tr>\n",
       "    <tr>\n",
       "      <th>h</th>\n",
       "      <td>NaN</td>\n",
       "      <td>-1.891752</td>\n",
       "      <td>NaN</td>\n",
       "    </tr>\n",
       "  </tbody>\n",
       "</table>\n",
       "</div>"
      ],
      "text/plain": [
       "    1         2   3\n",
       "a NaN  1.343277 NaN\n",
       "b NaN       NaN NaN\n",
       "c NaN -3.146350 NaN\n",
       "d NaN       NaN NaN\n",
       "e NaN  0.855947 NaN\n",
       "f NaN -2.833876 NaN\n",
       "g NaN       NaN NaN\n",
       "h NaN -1.891752 NaN"
      ]
     },
     "execution_count": 12,
     "metadata": {},
     "output_type": "execute_result"
    }
   ],
   "source": [
    "a = df2[['1','2']]\n",
    "b = df2[['2','3']]\n",
    "a + b"
   ]
  },
  {
   "cell_type": "markdown",
   "id": "c34853a8",
   "metadata": {},
   "source": [
    "Python deals with missing value for data structure in a smart way. For example:\n",
    "\n",
    "* When summing data, NA (missing) values will be treated as zero.\n",
    "* If the data are all <code>NA</code>, the result will be 0.\n",
    "* Cumulative methods like <code>cumsum()</code> and <code>cumprod()</code> ignore <code>NA</code> values by default, but preserve them in the resulting arrays. To override this behaviour and include <code>NA</code> values, use <code>skipna=False</code>."
   ]
  },
  {
   "cell_type": "code",
   "execution_count": 13,
   "id": "d80310f0",
   "metadata": {},
   "outputs": [
    {
     "data": {
      "text/html": [
       "<div>\n",
       "<style scoped>\n",
       "    .dataframe tbody tr th:only-of-type {\n",
       "        vertical-align: middle;\n",
       "    }\n",
       "\n",
       "    .dataframe tbody tr th {\n",
       "        vertical-align: top;\n",
       "    }\n",
       "\n",
       "    .dataframe thead th {\n",
       "        text-align: right;\n",
       "    }\n",
       "</style>\n",
       "<table border=\"1\" class=\"dataframe\">\n",
       "  <thead>\n",
       "    <tr style=\"text-align: right;\">\n",
       "      <th></th>\n",
       "      <th>1</th>\n",
       "      <th>2</th>\n",
       "      <th>3</th>\n",
       "      <th>4</th>\n",
       "      <th>5</th>\n",
       "    </tr>\n",
       "  </thead>\n",
       "  <tbody>\n",
       "    <tr>\n",
       "      <th>a</th>\n",
       "      <td>-1.163547</td>\n",
       "      <td>0.671639</td>\n",
       "      <td>-0.670563</td>\n",
       "      <td>bar</td>\n",
       "      <td>False</td>\n",
       "    </tr>\n",
       "    <tr>\n",
       "      <th>b</th>\n",
       "      <td>NaN</td>\n",
       "      <td>NaN</td>\n",
       "      <td>NaN</td>\n",
       "      <td>NaN</td>\n",
       "      <td>NaN</td>\n",
       "    </tr>\n",
       "    <tr>\n",
       "      <th>c</th>\n",
       "      <td>0.585098</td>\n",
       "      <td>-1.573175</td>\n",
       "      <td>-0.819964</td>\n",
       "      <td>bar</td>\n",
       "      <td>True</td>\n",
       "    </tr>\n",
       "    <tr>\n",
       "      <th>d</th>\n",
       "      <td>NaN</td>\n",
       "      <td>NaN</td>\n",
       "      <td>NaN</td>\n",
       "      <td>NaN</td>\n",
       "      <td>NaN</td>\n",
       "    </tr>\n",
       "    <tr>\n",
       "      <th>e</th>\n",
       "      <td>0.850473</td>\n",
       "      <td>0.427974</td>\n",
       "      <td>-1.146248</td>\n",
       "      <td>bar</td>\n",
       "      <td>True</td>\n",
       "    </tr>\n",
       "    <tr>\n",
       "      <th>f</th>\n",
       "      <td>0.401774</td>\n",
       "      <td>-1.416938</td>\n",
       "      <td>0.213961</td>\n",
       "      <td>bar</td>\n",
       "      <td>True</td>\n",
       "    </tr>\n",
       "    <tr>\n",
       "      <th>g</th>\n",
       "      <td>NaN</td>\n",
       "      <td>NaN</td>\n",
       "      <td>NaN</td>\n",
       "      <td>NaN</td>\n",
       "      <td>NaN</td>\n",
       "    </tr>\n",
       "    <tr>\n",
       "      <th>h</th>\n",
       "      <td>0.990349</td>\n",
       "      <td>-0.945876</td>\n",
       "      <td>-0.458248</td>\n",
       "      <td>bar</td>\n",
       "      <td>True</td>\n",
       "    </tr>\n",
       "  </tbody>\n",
       "</table>\n",
       "</div>"
      ],
      "text/plain": [
       "          1         2         3    4      5\n",
       "a -1.163547  0.671639 -0.670563  bar  False\n",
       "b       NaN       NaN       NaN  NaN    NaN\n",
       "c  0.585098 -1.573175 -0.819964  bar   True\n",
       "d       NaN       NaN       NaN  NaN    NaN\n",
       "e  0.850473  0.427974 -1.146248  bar   True\n",
       "f  0.401774 -1.416938  0.213961  bar   True\n",
       "g       NaN       NaN       NaN  NaN    NaN\n",
       "h  0.990349 -0.945876 -0.458248  bar   True"
      ]
     },
     "execution_count": 13,
     "metadata": {},
     "output_type": "execute_result"
    }
   ],
   "source": [
    "df2"
   ]
  },
  {
   "cell_type": "code",
   "execution_count": 14,
   "id": "7c274706",
   "metadata": {},
   "outputs": [
    {
     "data": {
      "text/plain": [
       "1.664146560537496"
      ]
     },
     "execution_count": 14,
     "metadata": {},
     "output_type": "execute_result"
    }
   ],
   "source": [
    "df2[\"1\"].sum()"
   ]
  },
  {
   "cell_type": "code",
   "execution_count": 15,
   "id": "1a5aba3d",
   "metadata": {},
   "outputs": [
    {
     "data": {
      "text/plain": [
       "a   -0.387491\n",
       "b         NaN\n",
       "c   -0.602680\n",
       "d         NaN\n",
       "e    0.044066\n",
       "f   -0.267068\n",
       "g         NaN\n",
       "h   -0.137925\n",
       "dtype: float64"
      ]
     },
     "execution_count": 15,
     "metadata": {},
     "output_type": "execute_result"
    }
   ],
   "source": [
    "df2.mean(1)"
   ]
  },
  {
   "cell_type": "code",
   "execution_count": 16,
   "id": "65fd1561",
   "metadata": {},
   "outputs": [
    {
     "data": {
      "text/html": [
       "<div>\n",
       "<style scoped>\n",
       "    .dataframe tbody tr th:only-of-type {\n",
       "        vertical-align: middle;\n",
       "    }\n",
       "\n",
       "    .dataframe tbody tr th {\n",
       "        vertical-align: top;\n",
       "    }\n",
       "\n",
       "    .dataframe thead th {\n",
       "        text-align: right;\n",
       "    }\n",
       "</style>\n",
       "<table border=\"1\" class=\"dataframe\">\n",
       "  <thead>\n",
       "    <tr style=\"text-align: right;\">\n",
       "      <th></th>\n",
       "      <th>1</th>\n",
       "      <th>2</th>\n",
       "      <th>3</th>\n",
       "    </tr>\n",
       "  </thead>\n",
       "  <tbody>\n",
       "    <tr>\n",
       "      <th>a</th>\n",
       "      <td>-1.163547</td>\n",
       "      <td>0.671639</td>\n",
       "      <td>-0.670563</td>\n",
       "    </tr>\n",
       "    <tr>\n",
       "      <th>b</th>\n",
       "      <td>NaN</td>\n",
       "      <td>NaN</td>\n",
       "      <td>NaN</td>\n",
       "    </tr>\n",
       "    <tr>\n",
       "      <th>c</th>\n",
       "      <td>-0.578449</td>\n",
       "      <td>-0.901536</td>\n",
       "      <td>-1.490527</td>\n",
       "    </tr>\n",
       "    <tr>\n",
       "      <th>d</th>\n",
       "      <td>NaN</td>\n",
       "      <td>NaN</td>\n",
       "      <td>NaN</td>\n",
       "    </tr>\n",
       "    <tr>\n",
       "      <th>e</th>\n",
       "      <td>0.272024</td>\n",
       "      <td>-0.473563</td>\n",
       "      <td>-2.636775</td>\n",
       "    </tr>\n",
       "    <tr>\n",
       "      <th>f</th>\n",
       "      <td>0.673798</td>\n",
       "      <td>-1.890501</td>\n",
       "      <td>-2.422814</td>\n",
       "    </tr>\n",
       "    <tr>\n",
       "      <th>g</th>\n",
       "      <td>NaN</td>\n",
       "      <td>NaN</td>\n",
       "      <td>NaN</td>\n",
       "    </tr>\n",
       "    <tr>\n",
       "      <th>h</th>\n",
       "      <td>1.664147</td>\n",
       "      <td>-2.836377</td>\n",
       "      <td>-2.881062</td>\n",
       "    </tr>\n",
       "  </tbody>\n",
       "</table>\n",
       "</div>"
      ],
      "text/plain": [
       "          1         2         3\n",
       "a -1.163547  0.671639 -0.670563\n",
       "b       NaN       NaN       NaN\n",
       "c -0.578449 -0.901536 -1.490527\n",
       "d       NaN       NaN       NaN\n",
       "e  0.272024 -0.473563 -2.636775\n",
       "f  0.673798 -1.890501 -2.422814\n",
       "g       NaN       NaN       NaN\n",
       "h  1.664147 -2.836377 -2.881062"
      ]
     },
     "execution_count": 16,
     "metadata": {},
     "output_type": "execute_result"
    }
   ],
   "source": [
    "df2[['1','2','3']].cumsum()"
   ]
  },
  {
   "cell_type": "code",
   "execution_count": 17,
   "id": "0aee2671",
   "metadata": {},
   "outputs": [
    {
     "data": {
      "text/html": [
       "<div>\n",
       "<style scoped>\n",
       "    .dataframe tbody tr th:only-of-type {\n",
       "        vertical-align: middle;\n",
       "    }\n",
       "\n",
       "    .dataframe tbody tr th {\n",
       "        vertical-align: top;\n",
       "    }\n",
       "\n",
       "    .dataframe thead th {\n",
       "        text-align: right;\n",
       "    }\n",
       "</style>\n",
       "<table border=\"1\" class=\"dataframe\">\n",
       "  <thead>\n",
       "    <tr style=\"text-align: right;\">\n",
       "      <th></th>\n",
       "      <th>1</th>\n",
       "      <th>2</th>\n",
       "      <th>3</th>\n",
       "    </tr>\n",
       "  </thead>\n",
       "  <tbody>\n",
       "    <tr>\n",
       "      <th>a</th>\n",
       "      <td>-1.163547</td>\n",
       "      <td>0.671639</td>\n",
       "      <td>-0.670563</td>\n",
       "    </tr>\n",
       "    <tr>\n",
       "      <th>b</th>\n",
       "      <td>NaN</td>\n",
       "      <td>NaN</td>\n",
       "      <td>NaN</td>\n",
       "    </tr>\n",
       "    <tr>\n",
       "      <th>c</th>\n",
       "      <td>NaN</td>\n",
       "      <td>NaN</td>\n",
       "      <td>NaN</td>\n",
       "    </tr>\n",
       "    <tr>\n",
       "      <th>d</th>\n",
       "      <td>NaN</td>\n",
       "      <td>NaN</td>\n",
       "      <td>NaN</td>\n",
       "    </tr>\n",
       "    <tr>\n",
       "      <th>e</th>\n",
       "      <td>NaN</td>\n",
       "      <td>NaN</td>\n",
       "      <td>NaN</td>\n",
       "    </tr>\n",
       "    <tr>\n",
       "      <th>f</th>\n",
       "      <td>NaN</td>\n",
       "      <td>NaN</td>\n",
       "      <td>NaN</td>\n",
       "    </tr>\n",
       "    <tr>\n",
       "      <th>g</th>\n",
       "      <td>NaN</td>\n",
       "      <td>NaN</td>\n",
       "      <td>NaN</td>\n",
       "    </tr>\n",
       "    <tr>\n",
       "      <th>h</th>\n",
       "      <td>NaN</td>\n",
       "      <td>NaN</td>\n",
       "      <td>NaN</td>\n",
       "    </tr>\n",
       "  </tbody>\n",
       "</table>\n",
       "</div>"
      ],
      "text/plain": [
       "          1         2         3\n",
       "a -1.163547  0.671639 -0.670563\n",
       "b       NaN       NaN       NaN\n",
       "c       NaN       NaN       NaN\n",
       "d       NaN       NaN       NaN\n",
       "e       NaN       NaN       NaN\n",
       "f       NaN       NaN       NaN\n",
       "g       NaN       NaN       NaN\n",
       "h       NaN       NaN       NaN"
      ]
     },
     "execution_count": 17,
     "metadata": {},
     "output_type": "execute_result"
    }
   ],
   "source": [
    "df2[['1','2','3']].cumsum(skipna=False)"
   ]
  },
  {
   "cell_type": "markdown",
   "id": "360c8e3f",
   "metadata": {},
   "source": [
    "Missing data is ubiquitous. Dealing with missing is unavoidable in data analysis. This concludes my topic here."
   ]
  }
 ],
 "metadata": {
  "kernelspec": {
   "display_name": "Python 3",
   "language": "python",
   "name": "python3"
  },
  "language_info": {
   "codemirror_mode": {
    "name": "ipython",
    "version": 3
   },
   "file_extension": ".py",
   "mimetype": "text/x-python",
   "name": "python",
   "nbconvert_exporter": "python",
   "pygments_lexer": "ipython3",
   "version": "3.8.8"
  }
 },
 "nbformat": 4,
 "nbformat_minor": 5
}
